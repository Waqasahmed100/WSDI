{
  "nbformat": 4,
  "nbformat_minor": 0,
  "metadata": {
    "colab": {
      "provenance": []
    },
    "kernelspec": {
      "name": "python3",
      "display_name": "Python 3"
    },
    "language_info": {
      "name": "python"
    }
  },
  "cells": [
    {
      "cell_type": "code",
      "source": [
        "from google.colab import drive\n",
        "drive.mount('/content/drive')"
      ],
      "metadata": {
        "id": "Tkq5fxgFtgnF",
        "outputId": "c56a0735-dada-4fd1-eefb-ac77557868ec",
        "colab": {
          "base_uri": "https://localhost:8080/"
        }
      },
      "execution_count": 1,
      "outputs": [
        {
          "output_type": "stream",
          "name": "stdout",
          "text": [
            "Drive already mounted at /content/drive; to attempt to forcibly remount, call drive.mount(\"/content/drive\", force_remount=True).\n"
          ]
        }
      ]
    },
    {
      "cell_type": "code",
      "execution_count": 1,
      "metadata": {
        "colab": {
          "base_uri": "https://localhost:8080/"
        },
        "id": "-xMpK-TTOt55",
        "outputId": "982b1534-c7ff-4397-b82c-57873fb010ce"
      },
      "outputs": [
        {
          "output_type": "stream",
          "name": "stdout",
          "text": [
            "        max_temperature_2m_C_max  max_temperature_2m_C_mean  \\\n",
            "0                      25.790598                  25.636761   \n",
            "1                      25.056116                  24.929652   \n",
            "2                      26.936349                  26.871950   \n",
            "3                      25.859109                  25.763064   \n",
            "4                      28.815866                  28.705279   \n",
            "...                          ...                        ...   \n",
            "389155                 29.157404                  26.279231   \n",
            "389156                 30.215616                  27.645040   \n",
            "389157                 31.471841                  28.374442   \n",
            "389158                 31.058084                  27.994020   \n",
            "389159                 31.064066                  28.091677   \n",
            "\n",
            "        max_temperature_2m_C_min  min_temperature_2m_C_max  \\\n",
            "0                      25.241769                  7.128122   \n",
            "1                      24.604944                  7.973520   \n",
            "2                      26.706598                  8.715265   \n",
            "3                      25.516458                 11.447855   \n",
            "4                      28.421335                 13.469568   \n",
            "...                          ...                       ...   \n",
            "389155                 22.942560                 13.373712   \n",
            "389156                 24.538797                 11.815942   \n",
            "389157                 24.793222                  9.396616   \n",
            "389158                 24.454691                  7.867715   \n",
            "389159                 24.261331                  7.394861   \n",
            "\n",
            "        min_temperature_2m_C_mean  min_temperature_2m_C_min  Year  Month  \\\n",
            "0                        7.102391                  7.036325  1961      1   \n",
            "1                        7.959463                  7.953989  1961      2   \n",
            "2                        8.673110                  8.564874  1961      3   \n",
            "3                       11.319749                 10.990823  1961      4   \n",
            "4                       13.309290                 12.897760  1961      5   \n",
            "...                           ...                       ...   ...    ...   \n",
            "389155                  12.247930                 10.294611  1990      8   \n",
            "389156                  10.661619                  9.428979  1990      9   \n",
            "389157                   7.595113                  6.086252  1990     10   \n",
            "389158                   5.829707                  4.162637  1990     11   \n",
            "389159                   5.357097                  3.453455  1990     12   \n",
            "\n",
            "          Tehsil  \n",
            "0       Adigudom  \n",
            "1       Adigudom  \n",
            "2       Adigudom  \n",
            "3       Adigudom  \n",
            "4       Adigudom  \n",
            "...          ...  \n",
            "389155     Samre  \n",
            "389156     Samre  \n",
            "389157     Samre  \n",
            "389158     Samre  \n",
            "389159     Samre  \n",
            "\n",
            "[389160 rows x 9 columns]\n"
          ]
        }
      ],
      "source": [
        "import pandas as pd\n",
        "import glob\n",
        "import os\n",
        "\n",
        "# Set the source folder path and the output file path\n",
        "#source_folder = '/content/drive/MyDrive/3Cs/Outputs'\n",
        "#output_file = '/content/drive/MyDrive/3Cs/merged_temperature_1961-1990.csv'\n",
        "\n",
        "# Get all CSV file paths from the source folder\n",
        "#all_files = glob.glob(os.path.join(source_folder, \"*.csv\"))\n",
        "\n",
        "# Read and concatenate all CSV files\n",
        "#df = pd.concat((pd.read_csv(f) for f in all_files), ignore_index=True)\n",
        "df= pd.read_csv('/content/drive/MyDrive/3Cs/merged_temperature_1961-1990.csv')\n",
        "# Save the merged DataFrame to a new CSV file\n",
        "#df.to_csv(output_file, index=False)\n",
        "\n",
        "#print(\"CSV files merged and saved to:\", output_file)\n",
        "print(df)"
      ]
    },
    {
      "cell_type": "code",
      "source": [
        "import pandas as pd\n",
        "import glob\n",
        "import os\n",
        "\n",
        "temp_2005= pd.read_csv('/content/drive/MyDrive/Temperature Data/ERA5/daily_max_2001_2005.csv')\n",
        "print(temp_2005)"
      ],
      "metadata": {
        "colab": {
          "base_uri": "https://localhost:8080/"
        },
        "id": "C8ktEkOjuzHl",
        "outputId": "912e178e-6cb1-4a4d-f3b8-1970b4cf39ca"
      },
      "execution_count": 2,
      "outputs": [
        {
          "output_type": "stream",
          "name": "stdout",
          "text": [
            "              date  temperature_2m_max  DHSCLUST  year\n",
            "0       2001-01-01          296.524124       1.0  2001\n",
            "1       2001-01-02          296.603348       1.0  2001\n",
            "2       2001-01-03          296.310623       1.0  2001\n",
            "3       2001-01-04          295.855881       1.0  2001\n",
            "4       2001-01-05          295.360977       1.0  2001\n",
            "...            ...                 ...       ...   ...\n",
            "963595  2005-12-26          303.939377     540.0  2005\n",
            "963596  2005-12-27          304.257431     540.0  2005\n",
            "963597  2005-12-28          303.807373     540.0  2005\n",
            "963598  2005-12-29          304.270325     540.0  2005\n",
            "963599  2005-12-30          303.942047     540.0  2005\n",
            "\n",
            "[963600 rows x 4 columns]\n"
          ]
        }
      ]
    },
    {
      "cell_type": "code",
      "source": [
        "print(df)"
      ],
      "metadata": {
        "colab": {
          "base_uri": "https://localhost:8080/"
        },
        "id": "t1iryXHvPuGj",
        "outputId": "da4ae40c-ae9c-46c6-c2c9-7f5504650d6c"
      },
      "execution_count": 3,
      "outputs": [
        {
          "output_type": "stream",
          "name": "stdout",
          "text": [
            "        max_temperature_2m_C_max  max_temperature_2m_C_mean  \\\n",
            "0                      25.790598                  25.636761   \n",
            "1                      25.056116                  24.929652   \n",
            "2                      26.936349                  26.871950   \n",
            "3                      25.859109                  25.763064   \n",
            "4                      28.815866                  28.705279   \n",
            "...                          ...                        ...   \n",
            "389155                 29.157404                  26.279231   \n",
            "389156                 30.215616                  27.645040   \n",
            "389157                 31.471841                  28.374442   \n",
            "389158                 31.058084                  27.994020   \n",
            "389159                 31.064066                  28.091677   \n",
            "\n",
            "        max_temperature_2m_C_min  min_temperature_2m_C_max  \\\n",
            "0                      25.241769                  7.128122   \n",
            "1                      24.604944                  7.973520   \n",
            "2                      26.706598                  8.715265   \n",
            "3                      25.516458                 11.447855   \n",
            "4                      28.421335                 13.469568   \n",
            "...                          ...                       ...   \n",
            "389155                 22.942560                 13.373712   \n",
            "389156                 24.538797                 11.815942   \n",
            "389157                 24.793222                  9.396616   \n",
            "389158                 24.454691                  7.867715   \n",
            "389159                 24.261331                  7.394861   \n",
            "\n",
            "        min_temperature_2m_C_mean  min_temperature_2m_C_min  Year  Month  \\\n",
            "0                        7.102391                  7.036325  1961      1   \n",
            "1                        7.959463                  7.953989  1961      2   \n",
            "2                        8.673110                  8.564874  1961      3   \n",
            "3                       11.319749                 10.990823  1961      4   \n",
            "4                       13.309290                 12.897760  1961      5   \n",
            "...                           ...                       ...   ...    ...   \n",
            "389155                  12.247930                 10.294611  1990      8   \n",
            "389156                  10.661619                  9.428979  1990      9   \n",
            "389157                   7.595113                  6.086252  1990     10   \n",
            "389158                   5.829707                  4.162637  1990     11   \n",
            "389159                   5.357097                  3.453455  1990     12   \n",
            "\n",
            "          Tehsil  \n",
            "0       Adigudom  \n",
            "1       Adigudom  \n",
            "2       Adigudom  \n",
            "3       Adigudom  \n",
            "4       Adigudom  \n",
            "...          ...  \n",
            "389155     Samre  \n",
            "389156     Samre  \n",
            "389157     Samre  \n",
            "389158     Samre  \n",
            "389159     Samre  \n",
            "\n",
            "[389160 rows x 9 columns]\n"
          ]
        }
      ]
    },
    {
      "cell_type": "code",
      "source": [
        "# Get and print unique Tehsils and their count\n",
        "unique_tehsils = df['Tehsil'].unique()\n",
        "print(\"Unique Tehsils:\", unique_tehsils)\n",
        "print(\"Number of unique Tehsils:\", len(unique_tehsils))"
      ],
      "metadata": {
        "colab": {
          "base_uri": "https://localhost:8080/"
        },
        "id": "Z4PvXLMeP8rd",
        "outputId": "048d165f-41f6-4cb4-dc2c-16db93559f55"
      },
      "execution_count": 4,
      "outputs": [
        {
          "output_type": "stream",
          "name": "stdout",
          "text": [
            "Unique Tehsils: ['Adigudom' 'Wajirat' 'Mekelle' ... 'Degua Temben' 'Hagere Selam town'\n",
            " 'Samre']\n",
            "Number of unique Tehsils: 1081\n"
          ]
        }
      ]
    },
    {
      "cell_type": "code",
      "source": [
        "temp_2005.rename(columns={'DHSCLUST': 'CLUSTER NUMBER'}, inplace=True)\n"
      ],
      "metadata": {
        "id": "hU2BZ-6GPCTt"
      },
      "execution_count": 18,
      "outputs": []
    },
    {
      "cell_type": "code",
      "source": [
        "import pandas as pd\n",
        "\n",
        "# Assuming df is already loaded and contains the relevant columns\n",
        "# df = pd.read_csv('path_to_your_merged_csv.csv')\n",
        "\n",
        "# Group by 'Tehsil' and calculate the 90th percentile of 'max_temperature_2m_C_max' for each Tehsil\n",
        "percentiles_df = df.groupby('Tehsil')['max_temperature_2m_C_max'].quantile(0.9).reset_index()\n",
        "\n",
        "# Rename the column for clarity\n",
        "percentiles_df.rename(columns={'max_temperature_2m_C_max': 'TXin90'}, inplace=True)\n",
        "\n",
        "# Display the resulting DataFrame with 90th percentiles for each Tehsil\n",
        "print(percentiles_df)"
      ],
      "metadata": {
        "colab": {
          "base_uri": "https://localhost:8080/"
        },
        "id": "Q1K07JTjPC-e",
        "outputId": "947935e4-0776-411a-dc80-ef906b5c0a82"
      },
      "execution_count": 5,
      "outputs": [
        {
          "output_type": "stream",
          "name": "stdout",
          "text": [
            "           Tehsil     TXin90\n",
            "0       Aba-Korow  37.107578\n",
            "1          Abaala  36.929326\n",
            "2     Abaala town  34.200069\n",
            "3           Ababo  36.537358\n",
            "4          Abadir  29.186766\n",
            "...           ...        ...\n",
            "1076         Zata  32.114009\n",
            "1077         Zayi  38.332903\n",
            "1078      Zequala  35.683473\n",
            "1079        Zigem  32.127328\n",
            "1080  Ziway Dugda  30.516240\n",
            "\n",
            "[1081 rows x 2 columns]\n"
          ]
        }
      ]
    },
    {
      "cell_type": "code",
      "source": [],
      "metadata": {
        "id": "-wyP2wqkqBGq"
      },
      "execution_count": 5,
      "outputs": []
    },
    {
      "cell_type": "markdown",
      "source": [
        "**Merge All Clusters**"
      ],
      "metadata": {
        "id": "G9I8ZaQMqCoo"
      }
    },
    {
      "cell_type": "code",
      "source": [
        "import pandas as pd\n",
        "import glob\n",
        "import os\n",
        "\n",
        "# Set the source folder path and the output file path\n",
        "source_folder = '/content/drive/MyDrive/3Cs/Cluster_Level_Temperature'\n",
        "output_file = '/content/drive/MyDrive/3Cs/Cluster_Level_Temperature/cluster_merged.csv'\n",
        "\n",
        "# Get all CSV file paths from the source folder\n",
        "all_files = glob.glob(os.path.join(source_folder, \"*.csv\"))\n",
        "\n",
        "# Read and concatenate all CSV files\n",
        "df2 = pd.concat((pd.read_csv(f) for f in all_files), ignore_index=True)\n",
        "\n",
        "# Save the merged DataFrame to a new CSV file\n",
        "df2.to_csv(output_file, index=False)\n",
        "\n",
        "# Remove duplicate records for each 'CLUSTER NUMBER', 'ADM3_EN', 'YEAR' combination\n",
        "df2 = df2.drop_duplicates(subset=['CLUSTER NUMBER', 'ADM3_EN', 'YEAR'])\n",
        "print(df2)\n",
        "# Save the cleaned DataFrame to a new CSV file\n",
        "df2.to_csv(output_file, index=False)\n"
      ],
      "metadata": {
        "id": "9cWXpWe-mgfM",
        "colab": {
          "base_uri": "https://localhost:8080/"
        },
        "outputId": "d8c8f4e0-6fe2-4313-ca19-6f657921dbe2"
      },
      "execution_count": 6,
      "outputs": [
        {
          "output_type": "stream",
          "name": "stdout",
          "text": [
            "        CLUSTER NUMBER           ADM3_EN    YEAR  Unnamed: 0  WSDI     TXin90  \\\n",
            "0                  1.0       Jabi Tehnan  2005.0         NaN   NaN        NaN   \n",
            "4                  2.0              Bole  2005.0         NaN   NaN        NaN   \n",
            "19                 3.0            Aboker  2005.0         NaN   NaN        NaN   \n",
            "24                 4.0        Kebribeyah  2005.0         NaN   NaN        NaN   \n",
            "26                 5.0        Bilidigilu  2005.0         NaN   NaN        NaN   \n",
            "...                ...               ...     ...         ...   ...        ...   \n",
            "119550             NaN          Zabagazo     NaN      1072.0   NaN  34.423631   \n",
            "119551             NaN              Zala     NaN      1073.0   NaN  33.416850   \n",
            "119552             NaN  Zala Anbesa town     NaN      1074.0   NaN  28.202777   \n",
            "119556             NaN           Zequala     NaN      1078.0   NaN  35.683473   \n",
            "119557             NaN             Zigem     NaN      1079.0   NaN  32.127328   \n",
            "\n",
            "        Avg_WSDI  \n",
            "0            NaN  \n",
            "4            NaN  \n",
            "19           NaN  \n",
            "24           NaN  \n",
            "26           NaN  \n",
            "...          ...  \n",
            "119550       NaN  \n",
            "119551       NaN  \n",
            "119552       NaN  \n",
            "119556       NaN  \n",
            "119557       NaN  \n",
            "\n",
            "[2853 rows x 7 columns]\n"
          ]
        }
      ]
    },
    {
      "cell_type": "code",
      "source": [
        "print(df2.columns)"
      ],
      "metadata": {
        "colab": {
          "base_uri": "https://localhost:8080/"
        },
        "id": "-gWBwoOFpdMF",
        "outputId": "5c0f6a5f-7ba8-4061-e829-4b687679aa4d"
      },
      "execution_count": 7,
      "outputs": [
        {
          "output_type": "stream",
          "name": "stdout",
          "text": [
            "Index(['CLUSTER NUMBER', 'ADM3_EN', 'YEAR', 'Unnamed: 0', 'WSDI', 'TXin90',\n",
            "       'Avg_WSDI'],\n",
            "      dtype='object')\n"
          ]
        }
      ]
    },
    {
      "cell_type": "code",
      "source": [
        "print(df.columns)"
      ],
      "metadata": {
        "colab": {
          "base_uri": "https://localhost:8080/"
        },
        "id": "USz3ojp1q7Pc",
        "outputId": "d1880566-bad7-45e2-d70c-b0b7eec7e312"
      },
      "execution_count": 8,
      "outputs": [
        {
          "output_type": "stream",
          "name": "stdout",
          "text": [
            "Index(['max_temperature_2m_C_max', 'max_temperature_2m_C_mean',\n",
            "       'max_temperature_2m_C_min', 'min_temperature_2m_C_max',\n",
            "       'min_temperature_2m_C_mean', 'min_temperature_2m_C_min', 'Year',\n",
            "       'Month', 'Tehsil'],\n",
            "      dtype='object')\n"
          ]
        }
      ]
    },
    {
      "cell_type": "code",
      "source": [
        "# Rename 'Tehsil' to 'ADM3_EN'\n",
        "df.rename(columns={'Tehsil': 'ADM3_EN'}, inplace=True)\n",
        "\n",
        "# Optionally, print the updated DataFrame columns to verify the change\n",
        "print(df.columns)\n"
      ],
      "metadata": {
        "colab": {
          "base_uri": "https://localhost:8080/"
        },
        "id": "RzzAXZrlq9Mc",
        "outputId": "b81ad774-e44b-4f1f-853f-8cdd4e44ba98"
      },
      "execution_count": 9,
      "outputs": [
        {
          "output_type": "stream",
          "name": "stdout",
          "text": [
            "Index(['max_temperature_2m_C_max', 'max_temperature_2m_C_mean',\n",
            "       'max_temperature_2m_C_min', 'min_temperature_2m_C_max',\n",
            "       'min_temperature_2m_C_mean', 'min_temperature_2m_C_min', 'Year',\n",
            "       'Month', 'ADM3_EN'],\n",
            "      dtype='object')\n"
          ]
        }
      ]
    },
    {
      "cell_type": "code",
      "source": [
        "import pandas as pd\n",
        "\n",
        "# Assuming df is already loaded and contains the relevant columns\n",
        "# df = pd.read_csv('path_to_your_merged_csv.csv')\n",
        "\n",
        "# Group by 'Tehsil' and calculate the 90th percentile of 'max_temperature_2m_C_max' for each Tehsil\n",
        "percentiles_df = df.groupby('ADM3_EN')['max_temperature_2m_C_max'].quantile(0.9).reset_index()\n",
        "\n",
        "# Rename the column for clarity\n",
        "percentiles_df.rename(columns={'max_temperature_2m_C_max': 'TXin90'}, inplace=True)\n",
        "\n",
        "# Display the resulting DataFrame with 90th percentiles for each Tehsil\n",
        "print(percentiles_df)"
      ],
      "metadata": {
        "colab": {
          "base_uri": "https://localhost:8080/"
        },
        "id": "_5QWAXKntMnb",
        "outputId": "d2d79013-80c6-41f0-c661-f6dbf50e2fb8"
      },
      "execution_count": 10,
      "outputs": [
        {
          "output_type": "stream",
          "name": "stdout",
          "text": [
            "          ADM3_EN     TXin90\n",
            "0       Aba-Korow  37.107578\n",
            "1          Abaala  36.929326\n",
            "2     Abaala town  34.200069\n",
            "3           Ababo  36.537358\n",
            "4          Abadir  29.186766\n",
            "...           ...        ...\n",
            "1076         Zata  32.114009\n",
            "1077         Zayi  38.332903\n",
            "1078      Zequala  35.683473\n",
            "1079        Zigem  32.127328\n",
            "1080  Ziway Dugda  30.516240\n",
            "\n",
            "[1081 rows x 2 columns]\n"
          ]
        }
      ]
    },
    {
      "cell_type": "code",
      "source": [
        "import pandas as pd\n",
        "\n",
        "# Assuming temp_2005 is already defined\n",
        "\n",
        "# Convert the 'date' column to datetime format if it isn't already\n",
        "temp_2005['date'] = pd.to_datetime(temp_2005['date'], errors='coerce')\n",
        "\n",
        "# Add the 'year' column with value 2005 for dates between 2001 and 2005\n",
        "temp_2005['YEAR'] = temp_2005['date'].apply(lambda x: 2005 if (x.year >= 2001 and x.year <= 2005) else None)\n",
        "\n",
        "# Display the updated DataFrame\n",
        "print(temp_2005)\n"
      ],
      "metadata": {
        "colab": {
          "base_uri": "https://localhost:8080/"
        },
        "id": "O-760K1_tL-Q",
        "outputId": "c6003cb5-b8f3-4fae-87d3-906961ef3da4"
      },
      "execution_count": 11,
      "outputs": [
        {
          "output_type": "stream",
          "name": "stdout",
          "text": [
            "             date  temperature_2m_max  DHSCLUST  year  YEAR\n",
            "0      2001-01-01          296.524124       1.0  2001  2005\n",
            "1      2001-01-02          296.603348       1.0  2001  2005\n",
            "2      2001-01-03          296.310623       1.0  2001  2005\n",
            "3      2001-01-04          295.855881       1.0  2001  2005\n",
            "4      2001-01-05          295.360977       1.0  2001  2005\n",
            "...           ...                 ...       ...   ...   ...\n",
            "963595 2005-12-26          303.939377     540.0  2005  2005\n",
            "963596 2005-12-27          304.257431     540.0  2005  2005\n",
            "963597 2005-12-28          303.807373     540.0  2005  2005\n",
            "963598 2005-12-29          304.270325     540.0  2005  2005\n",
            "963599 2005-12-30          303.942047     540.0  2005  2005\n",
            "\n",
            "[963600 rows x 5 columns]\n"
          ]
        }
      ]
    },
    {
      "cell_type": "code",
      "source": [
        "print(df2)"
      ],
      "metadata": {
        "colab": {
          "base_uri": "https://localhost:8080/"
        },
        "id": "WAz94e7vxuaI",
        "outputId": "7aaa9fa6-1c5b-4a44-906f-65403897f234"
      },
      "execution_count": 12,
      "outputs": [
        {
          "output_type": "stream",
          "name": "stdout",
          "text": [
            "        CLUSTER NUMBER           ADM3_EN    YEAR  Unnamed: 0  WSDI     TXin90  \\\n",
            "0                  1.0       Jabi Tehnan  2005.0         NaN   NaN        NaN   \n",
            "4                  2.0              Bole  2005.0         NaN   NaN        NaN   \n",
            "19                 3.0            Aboker  2005.0         NaN   NaN        NaN   \n",
            "24                 4.0        Kebribeyah  2005.0         NaN   NaN        NaN   \n",
            "26                 5.0        Bilidigilu  2005.0         NaN   NaN        NaN   \n",
            "...                ...               ...     ...         ...   ...        ...   \n",
            "119550             NaN          Zabagazo     NaN      1072.0   NaN  34.423631   \n",
            "119551             NaN              Zala     NaN      1073.0   NaN  33.416850   \n",
            "119552             NaN  Zala Anbesa town     NaN      1074.0   NaN  28.202777   \n",
            "119556             NaN           Zequala     NaN      1078.0   NaN  35.683473   \n",
            "119557             NaN             Zigem     NaN      1079.0   NaN  32.127328   \n",
            "\n",
            "        Avg_WSDI  \n",
            "0            NaN  \n",
            "4            NaN  \n",
            "19           NaN  \n",
            "24           NaN  \n",
            "26           NaN  \n",
            "...          ...  \n",
            "119550       NaN  \n",
            "119551       NaN  \n",
            "119552       NaN  \n",
            "119556       NaN  \n",
            "119557       NaN  \n",
            "\n",
            "[2853 rows x 7 columns]\n"
          ]
        }
      ]
    },
    {
      "cell_type": "code",
      "source": [
        "temp_2005 = temp_2005.merge(df2[['CLUSTER NUMBER', 'YEAR', 'ADM3_EN']],\n",
        "                              left_on=['CLUSTER NUMBER', 'YEAR'],\n",
        "                              right_on=['CLUSTER NUMBER', 'YEAR'],\n",
        "                              how='left')\n",
        "\n",
        "# Display the updated DataFrame\n",
        "print(temp_2005)"
      ],
      "metadata": {
        "colab": {
          "base_uri": "https://localhost:8080/"
        },
        "id": "6aNHE2oxxRq9",
        "outputId": "6b04f143-6025-4a09-c701-3e367970a86d"
      },
      "execution_count": 19,
      "outputs": [
        {
          "output_type": "stream",
          "name": "stdout",
          "text": [
            "             date  temperature_2m_max  CLUSTER NUMBER  year  YEAR      ADM3_EN\n",
            "0      2001-01-01          296.524124             1.0  2001  2005  Jabi Tehnan\n",
            "1      2001-01-02          296.603348             1.0  2001  2005  Jabi Tehnan\n",
            "2      2001-01-03          296.310623             1.0  2001  2005  Jabi Tehnan\n",
            "3      2001-01-04          295.855881             1.0  2001  2005  Jabi Tehnan\n",
            "4      2001-01-05          295.360977             1.0  2001  2005  Jabi Tehnan\n",
            "...           ...                 ...             ...   ...   ...          ...\n",
            "963595 2005-12-26          303.939377           540.0  2005  2005  Adi Hageray\n",
            "963596 2005-12-27          304.257431           540.0  2005  2005  Adi Hageray\n",
            "963597 2005-12-28          303.807373           540.0  2005  2005  Adi Hageray\n",
            "963598 2005-12-29          304.270325           540.0  2005  2005  Adi Hageray\n",
            "963599 2005-12-30          303.942047           540.0  2005  2005  Adi Hageray\n",
            "\n",
            "[963600 rows x 6 columns]\n"
          ]
        }
      ]
    },
    {
      "cell_type": "code",
      "source": [],
      "metadata": {
        "id": "pprldLwUydeN"
      },
      "execution_count": 13,
      "outputs": []
    },
    {
      "cell_type": "code",
      "source": [
        "percentiles_df.rename(columns={'Tehsil': 'ADM3_EN'}, inplace=True)"
      ],
      "metadata": {
        "id": "IuvjU0qFB-5v"
      },
      "execution_count": 14,
      "outputs": []
    },
    {
      "cell_type": "code",
      "source": [
        "merged_df2 = temp_2005.merge(percentiles_df, on='ADM3_EN')"
      ],
      "metadata": {
        "id": "dDXBjz0JwO1B"
      },
      "execution_count": 20,
      "outputs": []
    },
    {
      "cell_type": "code",
      "source": [
        "import pandas as pd\n",
        "\n",
        "# Assuming percentile_df and temp_2016 are already defined\n",
        "\n",
        "# Step 1: Merge DataFrames\n",
        "merged_df2 = temp_2005.merge(percentiles_df, on='ADM3_EN')\n",
        "\n",
        "# Step 2: Create a boolean column for warm spells\n",
        "# Convert temperature from Kelvin to Celsius if necessary\n",
        "merged_df2['temperature_2m_max_C'] = merged_df2['temperature_2m_max'] - 273.15  # Convert from Kelvin to Celsius\n",
        "merged_df2['is_warm_spell'] = merged_df2['temperature_2m_max_C'] > merged_df2['TXin90']\n",
        "\n",
        "# Step 3: Calculate WSDI for each ADM3_EN and CLUSTER NUMBER\n",
        "def calculate_wsdi(group):\n",
        "    group = group.copy()\n",
        "    group['consecutive'] = (group['is_warm_spell'] != group['is_warm_spell'].shift()).cumsum()\n",
        "    warm_spells = group[group['is_warm_spell']].groupby('consecutive').filter(lambda x: len(x) >= 6)\n",
        "    return warm_spells['is_warm_spell'].count() // 6  # Return the count of warm spells (6 days)\n",
        "\n",
        "# Calculate WSDI for each ADM3_EN and CLUSTER NUMBER\n",
        "wsdi_cluster_df = merged_df2.groupby(['ADM3_EN', 'CLUSTER NUMBER']).apply(calculate_wsdi).reset_index(name='WSDI')\n",
        "\n",
        "# Step 4: Calculate the average WSDI for each ADM3_EN across clusters\n",
        "wsdi_avg_df = wsdi_cluster_df.groupby('ADM3_EN')['WSDI'].mean().reset_index(name='Avg_WSDI')\n",
        "\n",
        "# Display the result\n",
        "print(wsdi_avg_df)\n"
      ],
      "metadata": {
        "colab": {
          "base_uri": "https://localhost:8080/"
        },
        "id": "7bh1d02WCOUf",
        "outputId": "3b143cbb-f127-4e47-aec6-0be01b7de9fe"
      },
      "execution_count": 21,
      "outputs": [
        {
          "output_type": "stream",
          "name": "stdout",
          "text": [
            "           ADM3_EN  Avg_WSDI\n",
            "0           Abaala  0.000000\n",
            "1           Abadir  0.357143\n",
            "2      Abay Chomen  0.000000\n",
            "3    Abergele (AM)  0.000000\n",
            "4    Abergele (TG)  2.000000\n",
            "..             ...       ...\n",
            "335           Yeka  0.000000\n",
            "336  Yem SP Woreda  1.000000\n",
            "337  Yilmana Densa  0.000000\n",
            "338     Yirgachefe  0.000000\n",
            "339           Zana  0.000000\n",
            "\n",
            "[340 rows x 2 columns]\n"
          ]
        },
        {
          "output_type": "stream",
          "name": "stderr",
          "text": [
            "<ipython-input-21-a8a91606d3d8>:21: DeprecationWarning: DataFrameGroupBy.apply operated on the grouping columns. This behavior is deprecated, and in a future version of pandas the grouping columns will be excluded from the operation. Either pass `include_groups=False` to exclude the groupings or explicitly select the grouping columns after groupby to silence this warning.\n",
            "  wsdi_cluster_df = merged_df2.groupby(['ADM3_EN', 'CLUSTER NUMBER']).apply(calculate_wsdi).reset_index(name='WSDI')\n"
          ]
        }
      ]
    },
    {
      "cell_type": "code",
      "source": [
        "#wsdi_cluster_df = merged_df2.groupby(['ADM3_EN', 'CLUSTER NUMBER']).apply(calculate_wsdi).reset_index(name='WSDI')\n",
        "wsdi_cluster_df.to_csv('/content/drive/MyDrive/3Cs/Cluster_Level_Temperature/WSDI_2005_cluster.csv')\n",
        "wsdi_avg_df.to_csv('/content/drive/MyDrive/3Cs/Cluster_Level_Temperature/WSDI_2005.csv')"
      ],
      "metadata": {
        "id": "PqKIAMiYCTy4"
      },
      "execution_count": 23,
      "outputs": []
    },
    {
      "cell_type": "code",
      "source": [
        "# Step 1: Count unique ADM3_EN in temp_2005\n",
        "unique_adm3_en_count = temp_2005['ADM3_EN'].nunique()\n",
        "\n",
        "# Step 2: Create a DataFrame for merging\n",
        "unique_count_df = pd.DataFrame({'Unique_ADM3_EN_Count': [unique_adm3_en_count]})\n",
        "\n",
        "print(unique_count_df)"
      ],
      "metadata": {
        "colab": {
          "base_uri": "https://localhost:8080/"
        },
        "id": "7jWQfo2wC21Y",
        "outputId": "68f8b939-2430-4d76-ac91-2c8b7fc9e643"
      },
      "execution_count": 40,
      "outputs": [
        {
          "output_type": "stream",
          "name": "stdout",
          "text": [
            "   Unique_ADM3_EN_Count\n",
            "0                   340\n"
          ]
        }
      ]
    },
    {
      "cell_type": "markdown",
      "source": [],
      "metadata": {
        "id": "HIf6SJ-gDz3o"
      }
    },
    {
      "cell_type": "code",
      "source": [],
      "metadata": {
        "id": "-s7i44YoD0He"
      },
      "execution_count": null,
      "outputs": []
    },
    {
      "cell_type": "code",
      "source": [],
      "metadata": {
        "id": "vdKMOZRmD0J-"
      },
      "execution_count": null,
      "outputs": []
    },
    {
      "cell_type": "code",
      "source": [],
      "metadata": {
        "id": "DCYX_Wk0D0L_"
      },
      "execution_count": null,
      "outputs": []
    },
    {
      "cell_type": "markdown",
      "source": [
        "**For 2011**"
      ],
      "metadata": {
        "id": "f2sOq1VyD0sp"
      }
    },
    {
      "cell_type": "code",
      "source": [
        "temp_2011=[]"
      ],
      "metadata": {
        "id": "0DeODZBvKfBN"
      },
      "execution_count": 24,
      "outputs": []
    },
    {
      "cell_type": "code",
      "source": [
        "import pandas as pd\n",
        "import glob\n",
        "import os\n",
        "\n",
        "temp_2011= pd.read_csv('/content/drive/MyDrive/Temperature Data/ERA5/daily_max_2006_2011.csv')\n",
        "print(temp_2011)"
      ],
      "metadata": {
        "colab": {
          "base_uri": "https://localhost:8080/"
        },
        "id": "cjBqRH2KDVVG",
        "outputId": "40521532-a222-4f96-d631-e635ce12a084"
      },
      "execution_count": 25,
      "outputs": [
        {
          "output_type": "stream",
          "name": "stdout",
          "text": [
            "               date  temperature_2m_max  DHSCLUST  year\n",
            "0        2006-01-01          295.537338       1.0  2006\n",
            "1        2006-01-02          295.861145       1.0  2006\n",
            "2        2006-01-03          296.207932       1.0  2006\n",
            "3        2006-01-04          295.939468       1.0  2006\n",
            "4        2006-01-05          295.174927       1.0  2006\n",
            "...             ...                 ...       ...   ...\n",
            "1250485  2011-12-26          304.327515     650.0  2011\n",
            "1250486  2011-12-27          304.427567     650.0  2011\n",
            "1250487  2011-12-28          304.338684     650.0  2011\n",
            "1250488  2011-12-29          304.478592     650.0  2011\n",
            "1250489  2011-12-30          304.398361     650.0  2011\n",
            "\n",
            "[1250490 rows x 4 columns]\n"
          ]
        }
      ]
    },
    {
      "cell_type": "code",
      "source": [
        "import pandas as pd\n",
        "\n",
        "# Assuming temp_2005 is already defined\n",
        "\n",
        "# Convert the 'date' column to datetime format if it isn't already\n",
        "temp_2011['date'] = pd.to_datetime(temp_2011['date'], errors='coerce')\n",
        "\n",
        "# Add the 'year' column with value 2005 for dates between 2001 and 2005\n",
        "temp_2011['YEAR'] = temp_2011['date'].apply(lambda x: 2011 if (x.year >= 2006 and x.year <= 2011) else None)\n",
        "temp_2011.rename(columns={'DHSCLUST': 'CLUSTER NUMBER'}, inplace=True)\n",
        "# Display the updated DataFrame\n",
        "print(temp_2011)\n"
      ],
      "metadata": {
        "colab": {
          "base_uri": "https://localhost:8080/"
        },
        "id": "DvWPlXo4D9jL",
        "outputId": "c41edc68-4174-4bf7-e021-8ff85892dd14"
      },
      "execution_count": 26,
      "outputs": [
        {
          "output_type": "stream",
          "name": "stdout",
          "text": [
            "              date  temperature_2m_max  CLUSTER NUMBER  year  YEAR\n",
            "0       2006-01-01          295.537338             1.0  2006  2011\n",
            "1       2006-01-02          295.861145             1.0  2006  2011\n",
            "2       2006-01-03          296.207932             1.0  2006  2011\n",
            "3       2006-01-04          295.939468             1.0  2006  2011\n",
            "4       2006-01-05          295.174927             1.0  2006  2011\n",
            "...            ...                 ...             ...   ...   ...\n",
            "1250485 2011-12-26          304.327515           650.0  2011  2011\n",
            "1250486 2011-12-27          304.427567           650.0  2011  2011\n",
            "1250487 2011-12-28          304.338684           650.0  2011  2011\n",
            "1250488 2011-12-29          304.478592           650.0  2011  2011\n",
            "1250489 2011-12-30          304.398361           650.0  2011  2011\n",
            "\n",
            "[1250490 rows x 5 columns]\n"
          ]
        }
      ]
    },
    {
      "cell_type": "code",
      "source": [
        "temp_2011 = temp_2011.merge(df2[['CLUSTER NUMBER', 'YEAR', 'ADM3_EN']],\n",
        "                              left_on=['CLUSTER NUMBER', 'YEAR'],\n",
        "                              right_on=['CLUSTER NUMBER', 'YEAR'],\n",
        "                              how='left')\n",
        "\n",
        "# Display the updated DataFrame\n",
        "print(temp_2011)"
      ],
      "metadata": {
        "colab": {
          "base_uri": "https://localhost:8080/"
        },
        "id": "qxtFjLZ3Eb6A",
        "outputId": "ed244497-4e23-4370-b20f-5fd72361d80e"
      },
      "execution_count": 27,
      "outputs": [
        {
          "output_type": "stream",
          "name": "stdout",
          "text": [
            "              date  temperature_2m_max  CLUSTER NUMBER  year  YEAR  \\\n",
            "0       2006-01-01          295.537338             1.0  2006  2011   \n",
            "1       2006-01-02          295.861145             1.0  2006  2011   \n",
            "2       2006-01-03          296.207932             1.0  2006  2011   \n",
            "3       2006-01-04          295.939468             1.0  2006  2011   \n",
            "4       2006-01-05          295.174927             1.0  2006  2011   \n",
            "...            ...                 ...             ...   ...   ...   \n",
            "1250485 2011-12-26          304.327515           650.0  2011  2011   \n",
            "1250486 2011-12-27          304.427567           650.0  2011  2011   \n",
            "1250487 2011-12-28          304.338684           650.0  2011  2011   \n",
            "1250488 2011-12-29          304.478592           650.0  2011  2011   \n",
            "1250489 2011-12-30          304.398361           650.0  2011  2011   \n",
            "\n",
            "                    ADM3_EN  \n",
            "0        Menze Keya Gabriel  \n",
            "1        Menze Keya Gabriel  \n",
            "2        Menze Keya Gabriel  \n",
            "3        Menze Keya Gabriel  \n",
            "4        Menze Keya Gabriel  \n",
            "...                     ...  \n",
            "1250485         Adi Hageray  \n",
            "1250486         Adi Hageray  \n",
            "1250487         Adi Hageray  \n",
            "1250488         Adi Hageray  \n",
            "1250489         Adi Hageray  \n",
            "\n",
            "[1250490 rows x 6 columns]\n"
          ]
        }
      ]
    },
    {
      "cell_type": "code",
      "source": [
        "print(df2)"
      ],
      "metadata": {
        "colab": {
          "base_uri": "https://localhost:8080/"
        },
        "id": "5oP5jLdEKRSA",
        "outputId": "f8eb6b44-4f0f-475d-c3dd-c95fcc501373"
      },
      "execution_count": 28,
      "outputs": [
        {
          "output_type": "stream",
          "name": "stdout",
          "text": [
            "        CLUSTER NUMBER           ADM3_EN    YEAR  Unnamed: 0  WSDI     TXin90  \\\n",
            "0                  1.0       Jabi Tehnan  2005.0         NaN   NaN        NaN   \n",
            "4                  2.0              Bole  2005.0         NaN   NaN        NaN   \n",
            "19                 3.0            Aboker  2005.0         NaN   NaN        NaN   \n",
            "24                 4.0        Kebribeyah  2005.0         NaN   NaN        NaN   \n",
            "26                 5.0        Bilidigilu  2005.0         NaN   NaN        NaN   \n",
            "...                ...               ...     ...         ...   ...        ...   \n",
            "119550             NaN          Zabagazo     NaN      1072.0   NaN  34.423631   \n",
            "119551             NaN              Zala     NaN      1073.0   NaN  33.416850   \n",
            "119552             NaN  Zala Anbesa town     NaN      1074.0   NaN  28.202777   \n",
            "119556             NaN           Zequala     NaN      1078.0   NaN  35.683473   \n",
            "119557             NaN             Zigem     NaN      1079.0   NaN  32.127328   \n",
            "\n",
            "        Avg_WSDI  \n",
            "0            NaN  \n",
            "4            NaN  \n",
            "19           NaN  \n",
            "24           NaN  \n",
            "26           NaN  \n",
            "...          ...  \n",
            "119550       NaN  \n",
            "119551       NaN  \n",
            "119552       NaN  \n",
            "119556       NaN  \n",
            "119557       NaN  \n",
            "\n",
            "[2853 rows x 7 columns]\n"
          ]
        }
      ]
    },
    {
      "cell_type": "code",
      "source": [],
      "metadata": {
        "id": "Ug_83phUKXJj"
      },
      "execution_count": 28,
      "outputs": []
    },
    {
      "cell_type": "code",
      "source": [
        "# Merge the DataFrames\n",
        "temp_2011 = temp_2011.merge(df2[['CLUSTER NUMBER', 'YEAR', 'ADM3_EN']],\n",
        "                            on=['CLUSTER NUMBER', 'YEAR'],\n",
        "                            how='left')\n",
        "\n",
        "# Drop one of the ADM3_EN columns and rename if needed\n",
        "temp_2011['ADM3_EN'] = temp_2011['ADM3_EN_y']  # Retain ADM3_EN_y as ADM3_EN\n",
        "temp_2011 = temp_2011.drop(columns=['ADM3_EN_x', 'ADM3_EN_y'])  # Drop duplicates\n",
        "\n",
        "# Display the updated DataFrame\n",
        "print(temp_2011)\n"
      ],
      "metadata": {
        "colab": {
          "base_uri": "https://localhost:8080/"
        },
        "id": "1Evh79EpEnwn",
        "outputId": "5aa15dc2-b8b3-46b8-ed9e-a8114496dd1d"
      },
      "execution_count": 29,
      "outputs": [
        {
          "output_type": "stream",
          "name": "stdout",
          "text": [
            "              date  temperature_2m_max  CLUSTER NUMBER  year  YEAR  \\\n",
            "0       2006-01-01          295.537338             1.0  2006  2011   \n",
            "1       2006-01-02          295.861145             1.0  2006  2011   \n",
            "2       2006-01-03          296.207932             1.0  2006  2011   \n",
            "3       2006-01-04          295.939468             1.0  2006  2011   \n",
            "4       2006-01-05          295.174927             1.0  2006  2011   \n",
            "...            ...                 ...             ...   ...   ...   \n",
            "1250485 2011-12-26          304.327515           650.0  2011  2011   \n",
            "1250486 2011-12-27          304.427567           650.0  2011  2011   \n",
            "1250487 2011-12-28          304.338684           650.0  2011  2011   \n",
            "1250488 2011-12-29          304.478592           650.0  2011  2011   \n",
            "1250489 2011-12-30          304.398361           650.0  2011  2011   \n",
            "\n",
            "                    ADM3_EN  \n",
            "0        Menze Keya Gabriel  \n",
            "1        Menze Keya Gabriel  \n",
            "2        Menze Keya Gabriel  \n",
            "3        Menze Keya Gabriel  \n",
            "4        Menze Keya Gabriel  \n",
            "...                     ...  \n",
            "1250485         Adi Hageray  \n",
            "1250486         Adi Hageray  \n",
            "1250487         Adi Hageray  \n",
            "1250488         Adi Hageray  \n",
            "1250489         Adi Hageray  \n",
            "\n",
            "[1250490 rows x 6 columns]\n"
          ]
        }
      ]
    },
    {
      "cell_type": "code",
      "source": [
        "import pandas as pd\n",
        "\n",
        "# Assuming percentile_df and temp_2016 are already defined\n",
        "\n",
        "# Step 1: Merge DataFrames\n",
        "merged_df2 = temp_2011.merge(percentiles_df, on='ADM3_EN')\n",
        "\n",
        "# Step 2: Create a boolean column for warm spells\n",
        "# Convert temperature from Kelvin to Celsius if necessary\n",
        "merged_df2['temperature_2m_max_C'] = merged_df2['temperature_2m_max'] - 273.15  # Convert from Kelvin to Celsius\n",
        "merged_df2['is_warm_spell'] = merged_df2['temperature_2m_max_C'] > merged_df2['TXin90']\n",
        "\n",
        "# Step 3: Calculate WSDI for each ADM3_EN and CLUSTER NUMBER\n",
        "def calculate_wsdi(group):\n",
        "    group = group.copy()\n",
        "    group['consecutive'] = (group['is_warm_spell'] != group['is_warm_spell'].shift()).cumsum()\n",
        "    warm_spells = group[group['is_warm_spell']].groupby('consecutive').filter(lambda x: len(x) >= 6)\n",
        "    return warm_spells['is_warm_spell'].count() // 6  # Return the count of warm spells (6 days)\n",
        "\n",
        "# Calculate WSDI for each ADM3_EN and CLUSTER NUMBER\n",
        "wsdi_cluster_df = merged_df2.groupby(['ADM3_EN', 'CLUSTER NUMBER']).apply(calculate_wsdi).reset_index(name='WSDI')\n",
        "\n",
        "# Step 4: Calculate the average WSDI for each ADM3_EN across clusters\n",
        "wsdi_avg_df = wsdi_cluster_df.groupby('ADM3_EN')['WSDI'].mean().reset_index(name='Avg_WSDI')\n",
        "\n",
        "# Display the result\n",
        "print(wsdi_avg_df)\n"
      ],
      "metadata": {
        "colab": {
          "base_uri": "https://localhost:8080/"
        },
        "id": "IO9pROmeErwk",
        "outputId": "6a4f882f-5c71-4982-df68-2c8c1f93520f"
      },
      "execution_count": 31,
      "outputs": [
        {
          "output_type": "stream",
          "name": "stdout",
          "text": [
            "           ADM3_EN   Avg_WSDI\n",
            "0           Abaala   0.000000\n",
            "1           Abadir   0.428571\n",
            "2      Abela Abaya  11.000000\n",
            "3    Abergele (AM)   0.000000\n",
            "4    Abergele (TG)   0.000000\n",
            "..             ...        ...\n",
            "360     Yirgachefe   0.000000\n",
            "361           Zana   0.000000\n",
            "362           Zata   0.000000\n",
            "363           Zayi   0.000000\n",
            "364    Ziway Dugda   0.000000\n",
            "\n",
            "[365 rows x 2 columns]\n"
          ]
        },
        {
          "output_type": "stream",
          "name": "stderr",
          "text": [
            "<ipython-input-31-d391b893169e>:21: DeprecationWarning: DataFrameGroupBy.apply operated on the grouping columns. This behavior is deprecated, and in a future version of pandas the grouping columns will be excluded from the operation. Either pass `include_groups=False` to exclude the groupings or explicitly select the grouping columns after groupby to silence this warning.\n",
            "  wsdi_cluster_df = merged_df2.groupby(['ADM3_EN', 'CLUSTER NUMBER']).apply(calculate_wsdi).reset_index(name='WSDI')\n"
          ]
        }
      ]
    },
    {
      "cell_type": "code",
      "source": [
        "wsdi_cluster_df.to_csv ('/content/drive/MyDrive/3Cs/Cluster_Level_Temperature/WSDI_2011_cluster.csv')\n",
        "wsdi_avg_df.to_csv('/content/drive/MyDrive/3Cs/Cluster_Level_Temperature/WSDI_2011.csv')"
      ],
      "metadata": {
        "id": "JBov3iBCF_gq"
      },
      "execution_count": 34,
      "outputs": []
    },
    {
      "cell_type": "code",
      "source": [],
      "metadata": {
        "id": "yywxBgbuGKbl"
      },
      "execution_count": null,
      "outputs": []
    },
    {
      "cell_type": "markdown",
      "source": [
        "**for 2016**"
      ],
      "metadata": {
        "id": "h2LYfOZGGUdy"
      }
    },
    {
      "cell_type": "code",
      "source": [],
      "metadata": {
        "id": "K9dhVWoyGWeZ"
      },
      "execution_count": null,
      "outputs": []
    },
    {
      "cell_type": "code",
      "source": [
        "temp_2016= pd.read_csv('/content/drive/MyDrive/Temperature Data/ERA5/daily_max_2012_2016.csv')\n",
        "\n",
        "temp_2016['date'] = pd.to_datetime(temp_2016['date'], errors='coerce')\n",
        "print(temp_2016)"
      ],
      "metadata": {
        "colab": {
          "base_uri": "https://localhost:8080/"
        },
        "id": "Y35QV3YLHKyt",
        "outputId": "c71bcece-d473-4da9-d299-132adbb608e4"
      },
      "execution_count": 35,
      "outputs": [
        {
          "output_type": "stream",
          "name": "stdout",
          "text": [
            "              date  temperature_2m_max  DHSCLUST  year\n",
            "0       2012-01-01          297.068008       1.0  2012\n",
            "1       2012-01-02          296.833984       1.0  2012\n",
            "2       2012-01-03          295.381897       1.0  2012\n",
            "3       2012-01-04          295.793701       1.0  2012\n",
            "4       2012-01-05          296.631104       1.0  2012\n",
            "...            ...                 ...       ...   ...\n",
            "1135767 2016-12-26          295.459503     645.0  2016\n",
            "1135768 2016-12-27          295.191681     645.0  2016\n",
            "1135769 2016-12-28          294.915085     645.0  2016\n",
            "1135770 2016-12-29          295.355667     645.0  2016\n",
            "1135771 2016-12-30          295.054977     645.0  2016\n",
            "\n",
            "[1135772 rows x 4 columns]\n"
          ]
        }
      ]
    },
    {
      "cell_type": "code",
      "source": [
        "temp_2016['YEAR'] = temp_2016['date'].apply(lambda x: 2016 if (x.year >= 2012 and x.year <= 2016) else None)\n",
        "temp_2016.rename(columns={'DHSCLUST': 'CLUSTER NUMBER'}, inplace=True)\n",
        "# Display the updated DataFrame\n",
        "print(temp_2016)"
      ],
      "metadata": {
        "colab": {
          "base_uri": "https://localhost:8080/"
        },
        "id": "DMIFK74CHvvD",
        "outputId": "f6bbb792-ccb1-4d2d-871e-594d1e293549"
      },
      "execution_count": 36,
      "outputs": [
        {
          "output_type": "stream",
          "name": "stdout",
          "text": [
            "              date  temperature_2m_max  CLUSTER NUMBER  year  YEAR\n",
            "0       2012-01-01          297.068008             1.0  2012  2016\n",
            "1       2012-01-02          296.833984             1.0  2012  2016\n",
            "2       2012-01-03          295.381897             1.0  2012  2016\n",
            "3       2012-01-04          295.793701             1.0  2012  2016\n",
            "4       2012-01-05          296.631104             1.0  2012  2016\n",
            "...            ...                 ...             ...   ...   ...\n",
            "1135767 2016-12-26          295.459503           645.0  2016  2016\n",
            "1135768 2016-12-27          295.191681           645.0  2016  2016\n",
            "1135769 2016-12-28          294.915085           645.0  2016  2016\n",
            "1135770 2016-12-29          295.355667           645.0  2016  2016\n",
            "1135771 2016-12-30          295.054977           645.0  2016  2016\n",
            "\n",
            "[1135772 rows x 5 columns]\n"
          ]
        }
      ]
    },
    {
      "cell_type": "code",
      "source": [
        "# Merge the DataFrames\n",
        "temp_2016 = temp_2016.merge(df2[['CLUSTER NUMBER', 'YEAR', 'ADM3_EN']],\n",
        "                            on=['CLUSTER NUMBER', 'YEAR'],\n",
        "                            how='left')\n",
        "\n",
        "# # Drop one of the ADM3_EN columns and rename if needed\n",
        "# temp_2016['ADM3_EN'] = temp_2016['ADM3_EN_y']  # Retain ADM3_EN_y as ADM3_EN\n",
        "# temp_2016 = temp_2016.drop(columns=['ADM3_EN_x', 'ADM3_EN_y'])  # Drop duplicates\n",
        "\n",
        "# Display the updated DataFrame\n",
        "print(temp_2016)\n"
      ],
      "metadata": {
        "colab": {
          "base_uri": "https://localhost:8080/"
        },
        "id": "VCaPB_utH6jq",
        "outputId": "60f8bebd-6944-439d-864c-21d356f8824e"
      },
      "execution_count": 37,
      "outputs": [
        {
          "output_type": "stream",
          "name": "stdout",
          "text": [
            "              date  temperature_2m_max  CLUSTER NUMBER  year  YEAR  \\\n",
            "0       2012-01-01          297.068008             1.0  2012  2016   \n",
            "1       2012-01-02          296.833984             1.0  2012  2016   \n",
            "2       2012-01-03          295.381897             1.0  2012  2016   \n",
            "3       2012-01-04          295.793701             1.0  2012  2016   \n",
            "4       2012-01-05          296.631104             1.0  2012  2016   \n",
            "...            ...                 ...             ...   ...   ...   \n",
            "1135767 2016-12-26          295.459503           645.0  2016  2016   \n",
            "1135768 2016-12-27          295.191681           645.0  2016  2016   \n",
            "1135769 2016-12-28          294.915085           645.0  2016  2016   \n",
            "1135770 2016-12-29          295.355667           645.0  2016  2016   \n",
            "1135771 2016-12-30          295.054977           645.0  2016  2016   \n",
            "\n",
            "                ADM3_EN  \n",
            "0           Gursum (OR)  \n",
            "1           Gursum (OR)  \n",
            "2           Gursum (OR)  \n",
            "3           Gursum (OR)  \n",
            "4           Gursum (OR)  \n",
            "...                 ...  \n",
            "1135767  Kolfe Keraniyo  \n",
            "1135768  Kolfe Keraniyo  \n",
            "1135769  Kolfe Keraniyo  \n",
            "1135770  Kolfe Keraniyo  \n",
            "1135771  Kolfe Keraniyo  \n",
            "\n",
            "[1135772 rows x 6 columns]\n"
          ]
        }
      ]
    },
    {
      "cell_type": "code",
      "source": [
        "import pandas as pd\n",
        "\n",
        "# Assuming percentile_df and temp_2016 are already defined\n",
        "\n",
        "# Step 1: Merge DataFrames\n",
        "merged_df2 = temp_2016.merge(percentiles_df, on='ADM3_EN')\n",
        "\n",
        "# Step 2: Create a boolean column for warm spells\n",
        "# Convert temperature from Kelvin to Celsius if necessary\n",
        "merged_df2['temperature_2m_max_C'] = merged_df2['temperature_2m_max'] - 273.15  # Convert from Kelvin to Celsius\n",
        "merged_df2['is_warm_spell'] = merged_df2['temperature_2m_max_C'] > merged_df2['TXin90']\n",
        "\n",
        "# Step 3: Calculate WSDI for each ADM3_EN and CLUSTER NUMBER\n",
        "def calculate_wsdi(group):\n",
        "    group = group.copy()\n",
        "    group['consecutive'] = (group['is_warm_spell'] != group['is_warm_spell'].shift()).cumsum()\n",
        "    warm_spells = group[group['is_warm_spell']].groupby('consecutive').filter(lambda x: len(x) >= 6)\n",
        "    return warm_spells['is_warm_spell'].count() // 6  # Return the count of warm spells (6 days)\n",
        "\n",
        "# Calculate WSDI for each ADM3_EN and CLUSTER NUMBER\n",
        "wsdi_cluster_df = merged_df2.groupby(['ADM3_EN', 'CLUSTER NUMBER']).apply(calculate_wsdi).reset_index(name='WSDI')\n",
        "\n",
        "# Step 4: Calculate the average WSDI for each ADM3_EN across clusters\n",
        "wsdi_avg_df = wsdi_cluster_df.groupby('ADM3_EN')['WSDI'].mean().reset_index(name='Avg_WSDI')\n",
        "\n",
        "# Display the result\n",
        "print(wsdi_avg_df)\n"
      ],
      "metadata": {
        "colab": {
          "base_uri": "https://localhost:8080/"
        },
        "id": "BPCwTDtFLveX",
        "outputId": "11fed987-4d83-4fb8-b60b-0ea24e5a886a"
      },
      "execution_count": 38,
      "outputs": [
        {
          "output_type": "stream",
          "name": "stdout",
          "text": [
            "         ADM3_EN   Avg_WSDI\n",
            "0      Aba-Korow   3.000000\n",
            "1         Abaala   0.000000\n",
            "2    Abaala town   0.000000\n",
            "3         Abadir   0.391304\n",
            "4          Abobo   0.000000\n",
            "..           ...        ...\n",
            "377     Zabagazo   0.000000\n",
            "378         Zala  10.000000\n",
            "379         Zata   0.000000\n",
            "380         Zayi   1.000000\n",
            "381  Ziway Dugda   0.000000\n",
            "\n",
            "[382 rows x 2 columns]\n"
          ]
        },
        {
          "output_type": "stream",
          "name": "stderr",
          "text": [
            "<ipython-input-38-3233ef474f1f>:21: DeprecationWarning: DataFrameGroupBy.apply operated on the grouping columns. This behavior is deprecated, and in a future version of pandas the grouping columns will be excluded from the operation. Either pass `include_groups=False` to exclude the groupings or explicitly select the grouping columns after groupby to silence this warning.\n",
            "  wsdi_cluster_df = merged_df2.groupby(['ADM3_EN', 'CLUSTER NUMBER']).apply(calculate_wsdi).reset_index(name='WSDI')\n"
          ]
        }
      ]
    },
    {
      "cell_type": "code",
      "source": [
        "wsdi_cluster_df.to_csv('/content/drive/MyDrive/3Cs/Cluster_Level_Temperature/WSDI_2016_cluster.csv')\n",
        "wsdi_avg_df.to_csv('/content/drive/MyDrive/3Cs/Cluster_Level_Temperature/WSDI_2016.csv')"
      ],
      "metadata": {
        "id": "toDKUdIPMADh"
      },
      "execution_count": 39,
      "outputs": []
    },
    {
      "cell_type": "code",
      "source": [
        "percentiles_df.to_csv('/content/drive/MyDrive/3Cs/Cluster_Level_Temperature/percentiles_df.csv')"
      ],
      "metadata": {
        "id": "9TQ5Wn-fMGpx"
      },
      "execution_count": 81,
      "outputs": []
    },
    {
      "cell_type": "code",
      "source": [
        "print (percentiles_df)"
      ],
      "metadata": {
        "colab": {
          "base_uri": "https://localhost:8080/"
        },
        "id": "MWA908wXNNZs",
        "outputId": "8ae3d66d-5808-4611-ad39-7eb95ddfcc70"
      },
      "execution_count": 80,
      "outputs": [
        {
          "output_type": "stream",
          "name": "stdout",
          "text": [
            "          ADM3_EN     TXin90\n",
            "0       Aba-Korow  37.107578\n",
            "1          Abaala  36.929326\n",
            "2     Abaala town  34.200069\n",
            "3           Ababo  36.537358\n",
            "4          Abadir  29.186766\n",
            "...           ...        ...\n",
            "1076         Zata  32.114009\n",
            "1077         Zayi  38.332903\n",
            "1078      Zequala  35.683473\n",
            "1079        Zigem  32.127328\n",
            "1080  Ziway Dugda  30.516240\n",
            "\n",
            "[1081 rows x 2 columns]\n"
          ]
        }
      ]
    },
    {
      "cell_type": "code",
      "source": [],
      "metadata": {
        "id": "Z8EcSM08NUq-"
      },
      "execution_count": null,
      "outputs": []
    }
  ]
}